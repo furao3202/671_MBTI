{
 "cells": [
  {
   "cell_type": "code",
   "execution_count": 1,
   "id": "36d85b51",
   "metadata": {},
   "outputs": [],
   "source": [
    "import numpy as np\n",
    "from sklearn.svm import SVC\n",
    "from imblearn.over_sampling import SMOTE"
   ]
  },
  {
   "cell_type": "code",
   "execution_count": 2,
   "id": "f7bde5f3",
   "metadata": {},
   "outputs": [],
   "source": [
    "Y=np.load('Y_musk.npy')\n",
    "X=np.load('X_musk.npy')"
   ]
  },
  {
   "cell_type": "code",
   "execution_count": 3,
   "id": "c0214f29",
   "metadata": {},
   "outputs": [],
   "source": [
    "personality_type = [ \"IE: Introversion (I) | Extroversion (E)\", \"NS: Intuition    (N) | Sensing      (S)\", \n",
    "                   \"FT: Feeling      (F) | Thinking     (T)\", \"JP: Judging      (J) | Perceiving   (P)\"  ]"
   ]
  },
  {
   "cell_type": "markdown",
   "id": "663f5379",
   "metadata": {},
   "source": [
    "IE: Introversion (I) | Extroversion (E)"
   ]
  },
  {
   "cell_type": "code",
   "execution_count": 12,
   "id": "8fe02d04",
   "metadata": {},
   "outputs": [
    {
     "name": "stdout",
     "output_type": "stream",
     "text": [
      "[0]\n"
     ]
    }
   ],
   "source": [
    "l=0\n",
    "# Apply SMOTE to the entire dataset\n",
    "smote = SMOTE(sampling_strategy='auto', random_state=671)\n",
    "X_resampled, Y_resampled = smote.fit_resample(X[:-1], Y[:-1, l])\n",
    "\n",
    "clf_svm = SVC(C=100, gamma=1, kernel='rbf', random_state=671)\n",
    "clf_svm.fit(X_resampled, Y_resampled)\n",
    "\n",
    "# Use the trained model to make predictions\n",
    "Y_pred = clf_svm.predict(X[-2:-1])\n",
    "\n",
    "print(Y_pred)"
   ]
  },
  {
   "cell_type": "markdown",
   "id": "95f13c27",
   "metadata": {},
   "source": [
    "NS: Intuition    (N) | Sensing      (S)"
   ]
  },
  {
   "cell_type": "code",
   "execution_count": 14,
   "id": "83f6b709",
   "metadata": {},
   "outputs": [
    {
     "name": "stdout",
     "output_type": "stream",
     "text": [
      "[0]\n"
     ]
    }
   ],
   "source": [
    "l=1\n",
    "# Apply SMOTE to the entire dataset\n",
    "smote = SMOTE(sampling_strategy='auto', random_state=671)\n",
    "X_resampled, Y_resampled = smote.fit_resample(X[:-1], Y[:-1, l])\n",
    "\n",
    "clf_svm = SVC(C=10, gamma=1, kernel='rbf', random_state=671)\n",
    "clf_svm.fit(X_resampled, Y_resampled)\n",
    "\n",
    "# Use the trained model to make predictions\n",
    "Y_pred = clf_svm.predict(X[-2:-1])\n",
    "\n",
    "print(Y_pred)"
   ]
  },
  {
   "cell_type": "markdown",
   "id": "1fe0980e",
   "metadata": {},
   "source": [
    "FT: Feeling      (F) | Thinking     (T)"
   ]
  },
  {
   "cell_type": "code",
   "execution_count": 15,
   "id": "2dad6fc9",
   "metadata": {},
   "outputs": [
    {
     "name": "stdout",
     "output_type": "stream",
     "text": [
      "[1]\n"
     ]
    }
   ],
   "source": [
    "l=2\n",
    "# Apply SMOTE to the entire dataset\n",
    "smote = SMOTE(sampling_strategy='auto', random_state=671)\n",
    "X_resampled, Y_resampled = smote.fit_resample(X[:-1], Y[:-1, l])\n",
    "\n",
    "clf_svm = SVC(C=1, gamma=1, kernel='rbf', random_state=671)\n",
    "clf_svm.fit(X_resampled, Y_resampled)\n",
    "\n",
    "# Use the trained model to make predictions\n",
    "Y_pred = clf_svm.predict(X[-2:-1])\n",
    "\n",
    "print(Y_pred)"
   ]
  },
  {
   "cell_type": "markdown",
   "id": "cd8e31c5",
   "metadata": {},
   "source": [
    "JP: Judging      (J) | Perceiving   (P)"
   ]
  },
  {
   "cell_type": "code",
   "execution_count": 16,
   "id": "85e79174",
   "metadata": {},
   "outputs": [
    {
     "name": "stdout",
     "output_type": "stream",
     "text": [
      "[1]\n"
     ]
    }
   ],
   "source": [
    "l=3\n",
    "# Apply SMOTE to the entire dataset\n",
    "smote = SMOTE(sampling_strategy='auto', random_state=671)\n",
    "X_resampled, Y_resampled = smote.fit_resample(X[:-1], Y[:-1, l])\n",
    "\n",
    "clf_svm = SVC(C=10, gamma=1, kernel='rbf', random_state=671)\n",
    "clf_svm.fit(X_resampled, Y_resampled)\n",
    "\n",
    "# Use the trained model to make predictions\n",
    "Y_pred = clf_svm.predict(X[-2:-1])\n",
    "\n",
    "print(Y_pred)"
   ]
  },
  {
   "cell_type": "code",
   "execution_count": null,
   "id": "09adcb13",
   "metadata": {},
   "outputs": [],
   "source": []
  }
 ],
 "metadata": {
  "kernelspec": {
   "display_name": "Python [conda env:env38]",
   "language": "python",
   "name": "conda-env-env38-py"
  },
  "language_info": {
   "codemirror_mode": {
    "name": "ipython",
    "version": 3
   },
   "file_extension": ".py",
   "mimetype": "text/x-python",
   "name": "python",
   "nbconvert_exporter": "python",
   "pygments_lexer": "ipython3",
   "version": "3.8.13"
  }
 },
 "nbformat": 4,
 "nbformat_minor": 5
}
